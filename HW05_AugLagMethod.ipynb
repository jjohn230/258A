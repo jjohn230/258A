{
 "cells": [
  {
   "cell_type": "code",
   "execution_count": 5,
   "metadata": {
    "collapsed": true
   },
   "outputs": [],
   "source": [
    "using ReverseDiffSource\n"
   ]
  },
  {
   "cell_type": "code",
   "execution_count": 42,
   "metadata": {
    "collapsed": false
   },
   "outputs": [
    {
     "data": {
      "text/plain": [
       "2-element Array{Int64,1}:\n",
       " 0\n",
       " 0"
      ]
     },
     "execution_count": 42,
     "metadata": {},
     "output_type": "execute_result"
    }
   ],
   "source": [
    "# Defining Hock-Schittkowksi problems 6-9\n",
    "\n",
    "\n",
    "# Prob 6, dimension = 2, x* = [1,1]\n",
    "f6(x) = (1 - x[1])^2\n",
    "c6(x) = 10*(x[2] - x[1]^2)\n",
    "x6_0 = [-1.2, 1]\n",
    "\n",
    "# Prob 7, dimension = 2, x* = [0,sqrt(3)]\n",
    "f7(x) = log(1 + x[1]^2) - x[2]\n",
    "c7(x) = (1 + x[1]^2)^2 + x[2]^2 - 4\n",
    "x7_0 = [2,2]\n",
    "\n",
    "# Prob 8, dimension = 2, x* = [a,9/a], [-a,-9/a], a = sqrt( ( 25 +- sqrt(301) )/2 )\n",
    "f8(x) = -1*x[1]^0\n",
    "c81(x) = x[1]^2 + x[2]^2 - 25\n",
    "c82(x) = x[1]*x[2] - 9\n",
    "x8_0 = [2,1]\n",
    "a = sqrt( ( 25 - sqrt(301) )/2 );\n",
    "x8star1 = [a,9/a]\n",
    "x8star2 = [-a,-9/a]\n",
    "a = sqrt( ( 25 + sqrt(301) )/2 );\n",
    "x8star3 = [a,9/a]\n",
    "x8star4 = [-a,-9/a]\n",
    "\n",
    "# Prob 9, dimension = 2, x* = [12k - 3, 16k - 4] for integer k\n",
    "f9(x) = sin(pi*x[1]/12)*cos(pi*x[2]/16)\n",
    "c9(x) = 4*x[1] - 3*x[2]\n",
    "x9_0 = [0,0]"
   ]
  },
  {
   "cell_type": "code",
   "execution_count": 47,
   "metadata": {
    "collapsed": false
   },
   "outputs": [
    {
     "data": {
      "text/plain": [
       "(anonymous function)"
      ]
     },
     "execution_count": 47,
     "metadata": {},
     "output_type": "execute_result"
    }
   ],
   "source": [
    "# DIDN'T WORK THIS WAY wrt ReverseDiffSource\n",
    "\n",
    "# L(x,y,rho) = f(x) - y'*c(x) + (rho/2)*c(x)'*c(x)\n",
    "# L6(x,y,rho) = (1 - x[1])^2 - y[1]*10*(x[2] - x[1]^2) + (rho/2)*(10*(x[2] - x[1]^2))^2\n",
    "global y\n",
    "global rho\n",
    "y = 1\n",
    "rho = 1\n",
    "\n",
    "L7(x) = log(1 + x[1]^2) - x[2] - y[1]*((1 + x[1]^2)^2 + x[2]^2 - 4) + (rho/2)*((1 + x[1]^2)^2 + x[2]^2 - 4)^2\n",
    "# L8(x,y,rho) = -1 - y[1]*(x[1]^2 + x[2]^2 - 25) - y[2]*(x[1]*x[2] - 9) + (rho/2)*((x[1]^2 + x[2]^2 - 25)^2 + (x[1]*x[2] - 9)^2)\n",
    "# L9(x,y,rho) = sin(pi*x[1]/12)*cos(pi*x[2]/16) - y[1]*(4*x[1] - 3*x[2]) + (rho/2)*(4*x[1] - 3*x[2])^2\n",
    "\n",
    "# diff_f6 = rdiff( f6, (ones(2),), order = 2)\n",
    "diff_f7 = rdiff( f7, (ones(2),), order = 2)\n",
    "# diff_f8 = rdiff( f8, (ones(0),), order = 2)\n",
    "# diff_f9 = rdiff( f9, (ones(2),), order = 2)\n",
    "\n",
    "# diff_c6 = rdiff( c6, (ones(2),), order = 2)\n",
    "diff_c7 = rdiff( c7, (ones(2),), order = 2)\n",
    "#diff_c81 = rdiff( c81, (ones(2),), order = 2)\n",
    "# diff_c82 = rdiff( c82, (ones(2),), order = 2)\n",
    "# diff_c9 = rdiff( c9, (ones(2),), order = 2)\n",
    "\n",
    "# diff_L6 = rdiff( L6, (ones(4),), order = 2)\n",
    "diff_L7 = rdiff( L7, (ones(2),), order = 2)\n",
    "# diff_L8 = rdiff( L8, (ones(5),), order = 2)\n",
    "# diff_L9 = rdiff( L9, (ones(4),), order = 2)\n",
    "\n",
    "L7(x,y,rho) = log(1 + x[1]^2) - x[2] - y[1]*((1 + x[1]^2)^2 + x[2]^2 - 4) + (rho/2)*((1 + x[1]^2)^2 + x[2]^2 - 4)^2\n",
    "\n",
    "diff_L7 = rdiff( L7, (ones(4),), order = 2)\n"
   ]
  },
  {
   "cell_type": "code",
   "execution_count": 49,
   "metadata": {
    "collapsed": false
   },
   "outputs": [
    {
     "data": {
      "text/plain": [
       "Ltemp (generic function with 1 method)"
      ]
     },
     "execution_count": 49,
     "metadata": {},
     "output_type": "execute_result"
    }
   ],
   "source": [
    "### Our fix for forcing ReverseDiffSource to work\n",
    "\n",
    "L6(x) = (1 - x[1])^2 - x[3]*10*(x[2] - x[1]^2) + (x[4]/2)*(10*(x[2] - x[1]^2))^2\n",
    "L7(x) = log(1 + x[1]^2) - x[2] - x[3]*((1 + x[1]^2)^2 + x[2]^2 - 4) + (x[4]/2)*((1 + x[1]^2)^2 + x[2]^2 - 4)^2\n",
    "L8(x) = -1 - x[3]*(x[1]^2 + x[2]^2 - 25) - x[4]*(x[1]*x[2] - 9) + (x[5]/2)*((x[1]^2 + x[2]^2 - 25)^2 + (x[1]*x[2] - 9)^2)\n",
    "L9(x) = sin(pi*x[1]/12)*cos(π*x[2]/16) - x[3]*(4*x[1] - 3*x[2]) + (x[4]/2)*(4*x[1] - 3*x[2])^2\n",
    "\n",
    "\n",
    "diff_f6 = rdiff( f6, (ones(2),), order = 2)\n",
    "diff_f7 = rdiff( f7, (ones(2),), order = 2)\n",
    "diff_f8 = rdiff( f8, (ones(1),), order = 2)\n",
    "diff_f9 = rdiff( f9, (ones(2),), order = 2)\n",
    "\n",
    "diff_c6 = rdiff( c6, (ones(2),), order = 2)\n",
    "diff_c7 = rdiff( c7, (ones(2),), order = 2)\n",
    "diff_c81 = rdiff( c81, (ones(2),), order = 2)\n",
    "diff_c82 = rdiff( c82, (ones(2),), order = 2)\n",
    "diff_c9 = rdiff( c9, (ones(2),), order = 2)\n",
    "\n",
    "\n",
    "diff_L6 = rdiff( L6, (ones(4),), order = 2)\n",
    "diff_L7 = rdiff( L7, (ones(4),), order = 2)\n",
    "diff_L8 = rdiff( L8, (ones(5),), order = 2)\n",
    "diff_L9 = rdiff( L9, (ones(4),), order = 2)\n",
    "\n",
    "diff_L6([0,0,0,0])\n",
    "function Ltemp(diff_L,x,y,rho,n)\n",
    "    tmp=diff_L([x,y,rho])\n",
    "    return (tmp[1], tmp[2][1:n],tmp[3][1:n,1:n])\n",
    "end"
   ]
  },
  {
   "cell_type": "code",
   "execution_count": null,
   "metadata": {
    "collapsed": false
   },
   "outputs": [],
   "source": []
  },
  {
   "cell_type": "code",
   "execution_count": 9,
   "metadata": {
    "collapsed": false
   },
   "outputs": [
    {
     "data": {
      "text/plain": [
       "warmup (generic function with 1 method)"
      ]
     },
     "execution_count": 9,
     "metadata": {},
     "output_type": "execute_result"
    }
   ],
   "source": [
    "function warmup(warmUp, obj, x, its, fvals, gNormVals)\n",
    "    for i = 1:warmUp\n",
    "        (f,g,H) = obj(x);\n",
    "        (sigma, V) = eig(H)\n",
    "        L = maximum(sigma)\n",
    "        x = x - (1/L)*g\n",
    "\n",
    "        its = its + 1;\n",
    "        fvals = [fvals; f];\n",
    "        gNormVals = [gNormVals; norm(g,2)];\n",
    "    end\n",
    "    return (x,its,fvals,gNormVals)\n",
    "end"
   ]
  },
  {
   "cell_type": "code",
   "execution_count": 10,
   "metadata": {
    "collapsed": false
   },
   "outputs": [
    {
     "data": {
      "text/plain": [
       "newtstep1 (generic function with 1 method)"
      ]
     },
     "execution_count": 10,
     "metadata": {},
     "output_type": "execute_result"
    }
   ],
   "source": [
    "function newtstep1(obj,x,its,fvals,gNormVals)\n",
    "    (f,g,H) = obj(x);\n",
    "        \n",
    "    #modify H if not pos def\n",
    "    E = eigfact(H);\n",
    "    V = E[:vectors];\n",
    "    lambda = diagm(max(abs(E[:values]),1e-2));\n",
    "    d = -V*inv(lambda)*transpose(V)*g;\n",
    "        \n",
    "    #backtracking linesearch\n",
    "    alpha = 1;\n",
    "    mu = 10^-2.0;\n",
    "    (newf,newg,newH) = obj(x+alpha*d);\n",
    "    while newf > f + (alpha*mu)*(dot(g,d))\n",
    "        (newf, newg, newH) = obj(x + alpha*d);\n",
    "        alpha = alpha/2;\n",
    "    end\n",
    "\n",
    "    x = x+alpha*d;\n",
    "\n",
    "    its = its + 1;\n",
    "    fvals = [fvals; f];\n",
    "    gNormVals= [gNormVals; norm(g,2)];\n",
    "    return(x,g,its,fvals,gNormVals);\n",
    "end\n"
   ]
  },
  {
   "cell_type": "code",
   "execution_count": 11,
   "metadata": {
    "collapsed": false
   },
   "outputs": [
    {
     "data": {
      "text/plain": [
       "newtstep2 (generic function with 1 method)"
      ]
     },
     "execution_count": 11,
     "metadata": {},
     "output_type": "execute_result"
    }
   ],
   "source": [
    "function newtstep2(obj,x,its,fvals,gNormVals)\n",
    "    (f,g,H) = obj(x);\n",
    "        \n",
    "    #modify H if not pos def\n",
    "    E = eigfact(H);\n",
    "    V = E[:vectors];\n",
    "    lambda = diagm(max(E[:values],1e-2));\n",
    "    d = -V*inv(lambda)*transpose(V)*g;\n",
    "        \n",
    "    #backtracking linesearch\n",
    "    alpha = 1;\n",
    "    mu = 10^-2.0;\n",
    "    (newf,newg,newH) = obj(x+alpha*d);\n",
    "    while newf > f + (alpha*mu)*(dot(g,d))\n",
    "        (newf, newg, newH) = obj(x + alpha*d);\n",
    "        alpha = alpha/2;\n",
    "    end\n",
    "\n",
    "    x = x+alpha*d;\n",
    "\n",
    "    its = its + 1;\n",
    "    fvals = [fvals; f];\n",
    "    gNormVals= [gNormVals; norm(g,2)];\n",
    "    return(x,g,its,fvals,gNormVals);\n",
    "end\n"
   ]
  },
  {
   "cell_type": "code",
   "execution_count": 12,
   "metadata": {
    "collapsed": false
   },
   "outputs": [
    {
     "data": {
      "text/plain": [
       "BFGSstep (generic function with 1 method)"
      ]
     },
     "execution_count": 12,
     "metadata": {},
     "output_type": "execute_result"
    }
   ],
   "source": [
    "function BFGSstep(obj,x,B,its,fvals,gNormVals)\n",
    "    (f,g,H) = obj(x);\n",
    "    d = -B\\g;\n",
    "        \n",
    "    \n",
    "    #backtracking linesearch with Wolfe condition\n",
    "    alpha = 1;\n",
    "    mu = 10^-2.0;\n",
    "    nu = 0.8;\n",
    "    oldx = x;\n",
    "    (oldf,oldg,oldH) = obj(x);\n",
    "    (newf,newg,newH) = obj(x+alpha*d);\n",
    "    alphaDir = 0;\n",
    "    while newf > f + (alpha*mu)*(dot(g,d))\n",
    "        (newf, newg, newH) = obj(x + alpha*d);\n",
    "        alpha = alpha/2;\n",
    "    end\n",
    "\n",
    "    x = x+alpha*d;\n",
    "    (f,g,H) = obj(x);\n",
    "    q = alpha*B*d;\n",
    "    y = g - oldg;\n",
    "    s = x - oldx;\n",
    "    \n",
    "    B = B - (1/(transpose(q)*s)[1])*(q*transpose(q)) + (1/(transpose(y)*s)[1])*(y*transpose(y));\n",
    "    \n",
    "    its = its + 1;\n",
    "    fvals = [fvals; f];\n",
    "    gNormVals= [gNormVals; norm(g,2)];\n",
    "    return(x,B,g,its,fvals,gNormVals);\n",
    "end"
   ]
  },
  {
   "cell_type": "code",
   "execution_count": 13,
   "metadata": {
    "collapsed": false
   },
   "outputs": [
    {
     "data": {
      "text/plain": [
       "Or (generic function with 1 method)"
      ]
     },
     "execution_count": 13,
     "metadata": {},
     "output_type": "execute_result"
    }
   ],
   "source": [
    "function Or(boolArray)\n",
    "    for i=1:size(boolArray,1)\n",
    "        if boolArray[i] == true\n",
    "            return (true, i)\n",
    "        end\n",
    "    end\n",
    "    return (false,size(boolArray,1))\n",
    "end"
   ]
  },
  {
   "cell_type": "code",
   "execution_count": 14,
   "metadata": {
    "collapsed": false
   },
   "outputs": [
    {
     "data": {
      "text/plain": [
       "newtmin (generic function with 1 method)"
      ]
     },
     "execution_count": 14,
     "metadata": {},
     "output_type": "execute_result"
    }
   ],
   "source": [
    "function newtmin(obj, x0, maxIts, optTol, warmUp, whileSwitch, randPerts,newtVers)\n",
    "    fvals = [];\n",
    "    gNormVals=[];\n",
    "    (f0,g0,H0) = obj(x0);\n",
    "    x = x0;\n",
    "    (f,g,H) = obj(x);\n",
    "    its = 0;\n",
    "    B = eye(size(x0,1));\n",
    "    \n",
    "\n",
    "    if warmUp > 0\n",
    "        (x,its,fvals,gNormVals) = warmup(warmUp,obj,x,its,fvals,gNormVals);\n",
    "    end\n",
    "    \n",
    "    while (norm(g,2) > optTol*whileSwitch*norm(g0,2) && norm(g,2) > 1e-8 && its < maxIts)\n",
    "        if newtVers == 1\n",
    "            (x,g,its,fvals,gNormVals) = newtstep1(obj,x,its,fvals,gNormVals);\n",
    "        end\n",
    "        if newtVers == 2\n",
    "            (x,g,its,fvals,gNormVals) = newtstep2(obj,x,its,fvals,gNormVals);\n",
    "        end\n",
    "        if newtVers == 3\n",
    "            (x,B,g,its,fvals,gNormVals) = BFGSstep(obj,x,B,its,fvals,gNormVals)\n",
    "        end\n",
    "    end \n",
    "    \n",
    "    if norm(g,2) < optTol*whileSwitch*norm(g0,2) || norm(g,2) < 1e-8\n",
    "#        println(\"Method computed optimal x: \", x)\n",
    "#        println(\"\\nIterations: \", its)\n",
    "#        println(\"\\nObjective: \", f)\n",
    "#        println(\"\\nInitial gradient norm: \", norm(g0,2))\n",
    "#        println(\"\\nGradient norm: \", norm(g,2))\n",
    "        return (x, its, fvals, gNormVals)\n",
    "    else\n",
    "        perts = 0;\n",
    "        while perts < randPerts\n",
    "            E = eigfact(H);\n",
    "            lambda = E[:values];\n",
    "            V = E[:vectors];\n",
    "            if Or(lambda.<0)[1]\n",
    "                perts = perts + 1\n",
    "                x = x + optTol*V[Or(lambda.<0)[2]];         #use small perturbation in decreasing eigenvector direction\n",
    "                while (norm(g,2) > optTol*whileSwitch*norm(g0,2) && norm(g,2) > 1e-8 && its < (perts + 1)*maxIts)\n",
    "                    (x,g,its,fvals,gNormVals) = newtstep1(x,its,fvals,gNormVals);\n",
    "                end \n",
    "            end\n",
    "            if norm(g,2) < optTol*whileSwitch*norm(g0,2) || norm(g,2) < 1e-8\n",
    "#                println(\"Method computed optimal x: \", x)\n",
    "#                println(\"\\nIterations: \", its)\n",
    "#                println(\"\\nObjective: \", f)\n",
    "#                println(\"\\nInitial gradient norm: \", norm(g0,2))\n",
    "#                println(\"\\nGradient norm: \", norm(g,2))\n",
    "                return (x, its, fvals, gNormVals)\n",
    "            end\n",
    "        end\n",
    "#        println(\"Method timed out on maxIts: \", its)\n",
    "#        println(\"\\nx: \", x)\n",
    "#        println(\"\\nObjective: \", f)\n",
    "#        println(\"\\nInitial gradient norm: \", norm(g0,2))\n",
    "#        println(\"\\nGradient norm: \", norm(g,2))\n",
    "    end\n",
    "    return (x, its, fvals, gNormVals);\n",
    "end"
   ]
  },
  {
   "cell_type": "code",
   "execution_count": 30,
   "metadata": {
    "collapsed": false
   },
   "outputs": [
    {
     "data": {
      "text/plain": [
       "augLag (generic function with 1 method)"
      ]
     },
     "execution_count": 30,
     "metadata": {},
     "output_type": "execute_result"
    }
   ],
   "source": [
    "# Iterative Augmented Lagrangian Method\n",
    "# L(x,y,rho) = f(x) - y'*c(x) + (rho/2)*c(x)'*c(x)\n",
    "\n",
    "function augLag(LagOracle,fcnOracle,constraintOracle,LtempOracle,x0,maxIts)\n",
    "    rho = 1\n",
    "    y = 1\n",
    "    f = fcnOracle\n",
    "    c = constraintOracle\n",
    "    x = x0\n",
    "    n = size(x)[1]\n",
    "    L(x) = LtempOracle(LagOracle,x,y,rho,n)\n",
    "    k = 1\n",
    "    eta = 1/k\n",
    "    rho = 1e-2\n",
    "    cTol = 1e-4\n",
    "    gTol = 1e-4           # newtmin(obj, x0, maxIts, optTol, warmUp, whileSwitch, randPerts,newtVers)\n",
    "    y = -rho*c(x)[1]\n",
    "    (x, its, fvals, gNormVals) = newtmin(L, x, 1000, 1e-3, 10, 1, 0, 3)\n",
    "    println(\"found initial x\")\n",
    "    y = y - rho*c(x)[1]\n",
    "    \n",
    "    while ( (norm(c(x)[1]) > cTol) || (norm(f(x)[2] - c(x)[2]*y) > gTol) ) && (k < maxIts)\n",
    "        if (norm(c(x)[1]) < eta)\n",
    "            y = y - rho*c(x)[1]\n",
    "            println(\"norm of c(x) was small enough\")\n",
    "        else\n",
    "            rho = 10*rho\n",
    "            println(\"norm of c(x) was too big, make rho go big now\")\n",
    "        end\n",
    "        (x, its, fvals, gNormVals) = newtmin(L, x, 1000, 1e-3, 0, 1, 0, 3)\n",
    "        k = k + 1\n",
    "        eta = 1/k\n",
    "        println(\"passed iteration \",k,\" with x =\",x,\", c(x) = \",c(x)[1])\n",
    "    end\n",
    "    \n",
    "    return (x, k)\n",
    "end"
   ]
  },
  {
   "cell_type": "code",
   "execution_count": 16,
   "metadata": {
    "collapsed": false,
    "scrolled": true
   },
   "outputs": [
    {
     "name": "stdout",
     "output_type": "stream",
     "text": [
      "found initial x\n",
      "norm of c(x) was too big, make rho go big now\n",
      "passed iteration 2 with x =[1.0017416720674914,1.0030940067314225], c(x) = -0.003923708251509783\n",
      "norm of c(x) was small enough\n",
      "passed iteration 3 with x =[0.9999999438941932,1.0001597518647922], c(x) = 0.0015986407640267153\n",
      "norm of c(x) was small enough\n",
      "passed iteration 4 with x =[0.9999999817105364,0.9999998129448356], c(x) = -1.504762374704427e-6\n"
     ]
    },
    {
     "data": {
      "text/plain": [
       "([1.0,1.0],4)"
      ]
     },
     "execution_count": 16,
     "metadata": {},
     "output_type": "execute_result"
    }
   ],
   "source": [
    "(xstar,k) = augLag(diff_L6, diff_f6, diff_c6, Ltemp, x6_0, 10)"
   ]
  },
  {
   "cell_type": "code",
   "execution_count": 36,
   "metadata": {
    "collapsed": false,
    "scrolled": true
   },
   "outputs": [
    {
     "name": "stdout",
     "output_type": "stream",
     "text": [
      "found initial x\n",
      "norm of c(x) was small enough\n",
      "passed iteration 2 with x =[0.0,1.8544562505697986], c(x) = 0.4390079852773958\n",
      "norm of c(x) was small enough\n",
      "passed iteration 3 with x =[0.0,1.830613044650613], c(x) = 0.3511441192449869\n",
      "norm of c(x) was too big, make rho go big now\n",
      "passed iteration 4 with x =[0.0,1.769234960852448], c(x) = 0.13019234670256274\n",
      "norm of c(x) was small enough\n",
      "passed iteration 5 with x =[0.0,1.743815343628002], c(x) = 0.04089195267244605\n",
      "norm of c(x) was small enough\n",
      "passed iteration 6 with x =[0.0,1.735842817363123], c(x) = 0.013150286591145033\n",
      "norm of c(x) was small enough\n",
      "passed iteration 7 with x =[0.0,1.7332797881786248], c(x) = 0.004258824108537951\n",
      "norm of c(x) was small enough\n",
      "passed iteration 8 with x =[0.0,1.7324494253215657], c(x) = 0.0013810112970231714\n",
      "norm of c(x) was small enough\n",
      "passed iteration 9 with x =[0.0,1.7321805444846723], c(x) = 0.00044943869121638613\n",
      "norm of c(x) was small enough\n",
      "passed iteration 10 with x =[0.0,1.7320929772168083], c(x) = 0.00014608172378682838\n"
     ]
    },
    {
     "data": {
      "text/plain": [
       "([0.0,1.73209],10)"
      ]
     },
     "execution_count": 36,
     "metadata": {},
     "output_type": "execute_result"
    }
   ],
   "source": [
    "(xstar,k) = augLag(diff_L7, diff_f7, diff_c7, Ltemp, x7_0, 10)"
   ]
  },
  {
   "cell_type": "code",
   "execution_count": 52,
   "metadata": {
    "collapsed": false
   },
   "outputs": [
    {
     "ename": "LoadError",
     "evalue": "BoundsError()\nwhile loading In[52], in expression starting on line 1",
     "output_type": "error",
     "traceback": [
      "BoundsError()\nwhile loading In[52], in expression starting on line 1",
      "",
      " in getindex at array.jl:246",
      " in anonymous at /home/juser/.julia/v0.3/ReverseDiffSource/src/frdiff.jl:26",
      " in Ltemp at In[49]:28",
      " in L at In[30]:11",
      " in newtmin at In[14]:4",
      " in augLag at In[30]:18"
     ]
    }
   ],
   "source": [
    "(xstar, k) = augLag(diff_L8, diff_f8, diff_c81, Ltemp, x8_0, 10)"
   ]
  },
  {
   "cell_type": "code",
   "execution_count": null,
   "metadata": {
    "collapsed": false
   },
   "outputs": [],
   "source": []
  },
  {
   "cell_type": "code",
   "execution_count": 23,
   "metadata": {
    "collapsed": false
   },
   "outputs": [
    {
     "data": {
      "text/plain": [
       "1"
      ]
     },
     "execution_count": 23,
     "metadata": {},
     "output_type": "execute_result"
    }
   ],
   "source": [
    "z = 1\n",
    "y = 1"
   ]
  },
  {
   "cell_type": "code",
   "execution_count": 21,
   "metadata": {
    "collapsed": false
   },
   "outputs": [
    {
     "data": {
      "text/plain": [
       "f15 (generic function with 1 method)"
      ]
     },
     "execution_count": 21,
     "metadata": {},
     "output_type": "execute_result"
    }
   ],
   "source": [
    "f15(x) = x[1]^2*y[1]^2*z[1]^2"
   ]
  },
  {
   "cell_type": "code",
   "execution_count": 24,
   "metadata": {
    "collapsed": false
   },
   "outputs": [
    {
     "data": {
      "text/plain": [
       "(anonymous function)"
      ]
     },
     "execution_count": 24,
     "metadata": {},
     "output_type": "execute_result"
    }
   ],
   "source": [
    "diff_ftest = rdiff( f15, (ones(1),), order = 2)"
   ]
  },
  {
   "cell_type": "code",
   "execution_count": 25,
   "metadata": {
    "collapsed": false
   },
   "outputs": [
    {
     "data": {
      "text/plain": [
       "f15 (generic function with 2 methods)"
      ]
     },
     "execution_count": 25,
     "metadata": {},
     "output_type": "execute_result"
    }
   ],
   "source": [
    "f15(x,y,z) = x[1]^2*y[1]^2*z[1]^2"
   ]
  },
  {
   "cell_type": "code",
   "execution_count": 26,
   "metadata": {
    "collapsed": false
   },
   "outputs": [
    {
     "data": {
      "text/plain": [
       "(anonymous function)"
      ]
     },
     "execution_count": 26,
     "metadata": {},
     "output_type": "execute_result"
    }
   ],
   "source": [
    "diff_ftest = rdiff( f15, (ones(3),), order = 2)"
   ]
  },
  {
   "cell_type": "code",
   "execution_count": 27,
   "metadata": {
    "collapsed": false
   },
   "outputs": [
    {
     "data": {
      "text/plain": [
       "1"
      ]
     },
     "execution_count": 27,
     "metadata": {},
     "output_type": "execute_result"
    }
   ],
   "source": [
    "z = 1"
   ]
  },
  {
   "cell_type": "code",
   "execution_count": 28,
   "metadata": {
    "collapsed": false
   },
   "outputs": [
    {
     "data": {
      "text/plain": [
       "(16,[8.0],\n",
       "1x1 Array{Float64,2}:\n",
       " 2.0)"
      ]
     },
     "execution_count": 28,
     "metadata": {},
     "output_type": "execute_result"
    }
   ],
   "source": [
    "diff_ftest([4])"
   ]
  },
  {
   "cell_type": "code",
   "execution_count": 35,
   "metadata": {
    "collapsed": false
   },
   "outputs": [
    {
     "data": {
      "text/plain": [
       "2"
      ]
     },
     "execution_count": 35,
     "metadata": {},
     "output_type": "execute_result"
    }
   ],
   "source": [
    "size(x6_0)[1]"
   ]
  },
  {
   "cell_type": "code",
   "execution_count": 30,
   "metadata": {
    "collapsed": false
   },
   "outputs": [
    {
     "data": {
      "text/plain": [
       "(64,[32.0],\n",
       "1x1 Array{Float64,2}:\n",
       " 8.0)"
      ]
     },
     "execution_count": 30,
     "metadata": {},
     "output_type": "execute_result"
    }
   ],
   "source": [
    "diff_ftest([4])"
   ]
  },
  {
   "cell_type": "code",
   "execution_count": null,
   "metadata": {
    "collapsed": true
   },
   "outputs": [],
   "source": []
  },
  {
   "cell_type": "code",
   "execution_count": 26,
   "metadata": {
    "collapsed": false
   },
   "outputs": [
    {
     "data": {
      "text/plain": [
       "f13 (generic function with 1 method)"
      ]
     },
     "execution_count": 26,
     "metadata": {},
     "output_type": "execute_result"
    }
   ],
   "source": [
    "f12(x) = x[1]^2\n",
    "f13(x) = x[1]"
   ]
  },
  {
   "cell_type": "code",
   "execution_count": 27,
   "metadata": {
    "collapsed": false
   },
   "outputs": [
    {
     "data": {
      "text/plain": [
       "f14 (generic function with 1 method)"
      ]
     },
     "execution_count": 27,
     "metadata": {},
     "output_type": "execute_result"
    }
   ],
   "source": [
    "f14(f12,f13,x) = f12(x) + f13(x)"
   ]
  },
  {
   "cell_type": "code",
   "execution_count": 28,
   "metadata": {
    "collapsed": false
   },
   "outputs": [
    {
     "data": {
      "text/plain": [
       "6"
      ]
     },
     "execution_count": 28,
     "metadata": {},
     "output_type": "execute_result"
    }
   ],
   "source": [
    "f14(f12,f13,2)"
   ]
  },
  {
   "cell_type": "code",
   "execution_count": null,
   "metadata": {
    "collapsed": false
   },
   "outputs": [],
   "source": [
    "diff_Q = (.5*x'*Q*x+q'*x, Q*x+q, Q)\n",
    "diff_const = (A*x-b, A', 0)\n",
    "diff_QLag = ()\n"
   ]
  },
  {
   "cell_type": "code",
   "execution_count": null,
   "metadata": {
    "collapsed": false
   },
   "outputs": [],
   "source": [
    "A = rand(2,5)\n",
    "b = rand(2,1)\n",
    "Q = rand(5,5)\n",
    "Q = Q + Q'\n",
    "q = rand(5,1)"
   ]
  },
  {
   "cell_type": "code",
   "execution_count": null,
   "metadata": {
    "collapsed": false
   },
   "outputs": [],
   "source": [
    "xstar = [Q -A'; A zeros(2,2)]\\[-q; b]\n",
    "xstar = xstar[1:5,1]"
   ]
  },
  {
   "cell_type": "code",
   "execution_count": null,
   "metadata": {
    "collapsed": false
   },
   "outputs": [],
   "source": [
    "(xstar, k) = augLag(LagOracle,fcnOracle,constraintOracle,x0,maxIts)"
   ]
  },
  {
   "cell_type": "code",
   "execution_count": 43,
   "metadata": {
    "collapsed": false
   },
   "outputs": [
    {
     "data": {
      "text/plain": [
       "([1.0,1.0],)"
      ]
     },
     "execution_count": 43,
     "metadata": {},
     "output_type": "execute_result"
    }
   ],
   "source": [
    "x = (ones(2),)"
   ]
  }
 ],
 "metadata": {
  "kernelspec": {
   "display_name": "Julia 0.3.11",
   "language": "julia",
   "name": "julia-0.3"
  },
  "language_info": {
   "file_extension": ".jl",
   "mimetype": "application/julia",
   "name": "julia",
   "version": "0.3.11"
  }
 },
 "nbformat": 4,
 "nbformat_minor": 0
}
