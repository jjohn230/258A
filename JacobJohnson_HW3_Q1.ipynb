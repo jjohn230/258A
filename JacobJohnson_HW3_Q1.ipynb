{
 "cells": [
  {
   "cell_type": "code",
   "execution_count": 4,
   "metadata": {
    "collapsed": false
   },
   "outputs": [],
   "source": [
    "using Toms566\n",
    "using BinDeps\n",
    "using Optim"
   ]
  },
  {
   "cell_type": "code",
   "execution_count": 5,
   "metadata": {
    "collapsed": true
   },
   "outputs": [
    {
     "name": "stderr",
     "output_type": "stream",
     "text": [
      "INFO: Updating METADATA...\n",
      "INFO: Updating Toms566...\n",
      "INFO: Computing changes...\n",
      "INFO: No packages to install, update or remove\n"
     ]
    }
   ],
   "source": [
    "Pkg.update()"
   ]
  },
  {
   "cell_type": "code",
   "execution_count": 132,
   "metadata": {
    "collapsed": true
   },
   "outputs": [
    {
     "data": {
      "text/plain": [
       "newtmin1 (generic function with 1 method)"
      ]
     },
     "execution_count": 132,
     "metadata": {},
     "output_type": "execute_result"
    }
   ],
   "source": [
    "#### Newton ####\n",
    "#Solves 1,3,5,8,10,16, and 17 with <150 its\n",
    "\n",
    "function obj(x)\n",
    "    return (p.obj(x),p.grd(x),p.hes(x))\n",
    "end\n",
    "\n",
    "function newtmin1(obj, x0, b; maxIts = 1000, opTol = 1e-6)\n",
    "    \n",
    "    its = 0\n",
    "    (f0,g0,h0) = obj(x0)\n",
    "    x = x0\n",
    "    (f,g,h) = obj(x)\n",
    "    \n",
    "    while norm(g,2) > b*norm(g0,2)*opTol && norm(g,2)>1e-8 && its < maxIts \n",
    "       \n",
    "        E = eigfact(h)\n",
    "        V = E[:vectors]\n",
    "        Lam = diagm(max(E[:values], 1e-2))\n",
    "        d = -V*inv(Lam)*transpose(V)*g\n",
    "        \n",
    "        alpha = 1\n",
    "        mu  = 1e-2\n",
    "        (fp,gp,hp) = obj(x+alpha*d)\n",
    "        while fp > f + alpha*mu*dot(g,d)\n",
    "            alpha = alpha/2\n",
    "            (fp,gp,hp) = obj(x+alpha*d)\n",
    "        end\n",
    "        \n",
    "        x = x + alpha*d\n",
    "        (f,g,h) = obj(x)\n",
    "        its = its + 1\n",
    "        \n",
    "    end\n",
    "    \n",
    "    if norm(g,2) < opTol && its < maxIts\n",
    "        println(\"Way 2 go, homeskillet.\")\n",
    "    else\n",
    "        println(\"Aw, shucks\")\n",
    "    end\n",
    "    \n",
    "    return (x, f, norm(g,2), its)\n",
    "    \n",
    "end"
   ]
  },
  {
   "cell_type": "code",
   "execution_count": 135,
   "metadata": {
    "collapsed": false
   },
   "outputs": [
    {
     "name": "stdout",
     "output_type": "stream",
     "text": [
      "Way 2 go, homeskillet.\n"
     ]
    },
    {
     "data": {
      "text/plain": [
       "([0.3989561378221997,1.0000190842030112,6.831435020907098e-20],1.1279327696199563e-8,9.701953934166454e-11,2)"
      ]
     },
     "execution_count": 135,
     "metadata": {},
     "output_type": "execute_result"
    }
   ],
   "source": [
    "p = Problem(3)\n",
    "x0 = p.x0\n",
    "(x, f, ng, its) = newtmin1(obj, x0, 0)"
   ]
  },
  {
   "cell_type": "code",
   "execution_count": 127,
   "metadata": {
    "collapsed": true
   },
   "outputs": [
    {
     "data": {
      "text/plain": [
       "newtmin2 (generic function with 1 method)"
      ]
     },
     "execution_count": 127,
     "metadata": {},
     "output_type": "execute_result"
    }
   ],
   "source": [
    "#### Newton with warmup ####\n",
    "#solves 4,6,12\n",
    "\n",
    "function obj(x)\n",
    "    return (p.obj(x),p.grd(x),p.hes(x))\n",
    "end\n",
    "\n",
    "function newtmin2(obj, x0, wrmUp, b; maxIts = 1000, opTol = 1e-6)\n",
    "    \n",
    "    its = 0\n",
    "    (f0,g0,h0) = obj(x0)\n",
    "    x = x0\n",
    "    (f,g,h) = obj(x)\n",
    "    \n",
    "   while wrmUp > 0 && norm(g,2) > opTol \n",
    "    \n",
    "        (f,g,h) = obj(x)\n",
    "        (sig, W) = eig(h)\n",
    "        L = maximum(sig)\n",
    "        x = x - (1/L)*g\n",
    "        \n",
    "        wrmUp = wrmUp - 1\n",
    "        its = its + 1\n",
    "        \n",
    "    end\n",
    "    \n",
    "    while norm(g,2) > b*norm(g0,2)*opTol && norm(g,2)>1e-8 && its < maxIts \n",
    "       \n",
    "        E = eigfact(h)\n",
    "        V = E[:vectors]\n",
    "        Lam = diagm(max(E[:values], 1e-2))\n",
    "        d = -V*inv(Lam)*transpose(V)*g\n",
    "        \n",
    "        alpha = 1\n",
    "        mu  = 1e-2\n",
    "        (fp,gp,hp) = obj(x+alpha*d)\n",
    "        while fp > f + alpha*mu*dot(g,d)\n",
    "            alpha = alpha/2\n",
    "            (fp,gp,hp) = obj(x+alpha*d)\n",
    "        end\n",
    "        \n",
    "        x = x + alpha*d\n",
    "        (f,g,h) = obj(x)\n",
    "        its = its + 1\n",
    "        \n",
    "    end\n",
    "    \n",
    "    if norm(g,2) < opTol && its < maxIts\n",
    "        println(\"Way 2 go, homeskillet.\")\n",
    "    else\n",
    "        println(\"Aw, shucks\")\n",
    "    end\n",
    "    \n",
    "    return (x, f , norm(g,2), its)\n",
    "    \n",
    "end\n",
    "    "
   ]
  },
  {
   "cell_type": "code",
   "execution_count": 134,
   "metadata": {
    "collapsed": false
   },
   "outputs": [
    {
     "name": "stdout",
     "output_type": "stream",
     "text": [
      "Way 2 go, homeskillet.\n"
     ]
    },
    {
     "data": {
      "text/plain": [
       "([19.90289986006735,-350.76114077033543,-389.3115556379986],32.83499999999998,4.031835563860223e-111,3)"
      ]
     },
     "execution_count": 134,
     "metadata": {},
     "output_type": "execute_result"
    }
   ],
   "source": [
    "p = Problem(12)\n",
    "x0 = p.x0\n",
    "(x, f, normg, its) = newtmin2(obj, x0, 500, 0)"
   ]
  },
  {
   "cell_type": "code",
   "execution_count": null,
   "metadata": {
    "collapsed": true
   },
   "outputs": [],
   "source": []
  }
 ],
 "metadata": {
  "kernelspec": {
   "display_name": "Julia 0.4.0",
   "language": "julia",
   "name": "julia-0.4"
  },
  "language_info": {
   "file_extension": ".jl",
   "mimetype": "application/julia",
   "name": "julia",
   "version": "0.4.0"
  }
 },
 "nbformat": 4,
 "nbformat_minor": 0
}
