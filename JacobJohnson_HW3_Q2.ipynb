{
 "cells": [
  {
   "cell_type": "code",
   "execution_count": 1,
   "metadata": {
    "collapsed": true
   },
   "outputs": [
    {
     "name": "stderr",
     "output_type": "stream",
     "text": [
      "INFO: Building PyCall\n",
      "INFO: PyCall is using /usr/bin/python (Python 2.7.6) at /usr/bin/python, libpython = libpython2.7\n",
      "INFO: Loading help data...\n"
     ]
    },
    {
     "ename": "LoadError",
     "evalue": "ReverseDiffSource not found\nwhile loading In[1], in expression starting on line 3",
     "output_type": "error",
     "traceback": [
      "ReverseDiffSource not found\nwhile loading In[1], in expression starting on line 3",
      "",
      " in require at loading.jl:47"
     ]
    }
   ],
   "source": [
    "Pkg.build(\"PyPlot\")\n",
    "using PyPlot"
   ]
  },
  {
   "cell_type": "code",
   "execution_count": 2,
   "metadata": {
    "collapsed": true
   },
   "outputs": [
    {
     "name": "stderr",
     "output_type": "stream",
     "text": [
      "INFO: Cloning cache of ReverseDiffSource from git://github.com/JuliaDiff/ReverseDiffSource.jl.git\n",
      "INFO: Installing ReverseDiffSource v0.1.4\n",
      "INFO: Package database updated\n",
      "INFO: METADATA is out-of-date — you may not have the latest version of ReverseDiffSource\n",
      "INFO: Use `Pkg.update()` to get the latest versions of your packages\n"
     ]
    }
   ],
   "source": [
    "Pkg.add(\"ReverseDiffSource\")\n",
    "using ReverseDiffSource"
   ]
  },
  {
   "cell_type": "code",
   "execution_count": 3,
   "metadata": {
    "collapsed": true
   },
   "outputs": [
    {
     "name": "stderr",
     "output_type": "stream",
     "text": [
      "INFO: Updating METADATA...\n",
      "INFO: Updating cache of Convex...\n",
      "INFO: Updating cache of JSON...\n",
      "INFO: Updating Toms566...\n",
      "INFO: Computing changes...\n",
      "INFO: Cloning cache of DataStructures from git://github.com/JuliaLang/DataStructures.jl.git\n",
      "INFO: Upgrading ColorTypes: v0.1.6 => v0.1.7\n",
      "INFO: Upgrading Compat: v0.7.4 => v0.7.6\n",
      "INFO: Upgrading Convex: v0.0.6 => v0.1.0\n",
      "INFO: Installing DataStructures v0.3.13\n",
      "INFO: Upgrading FixedPointNumbers: v0.0.11 => v0.0.12\n",
      "INFO: Upgrading JSON: v0.4.6 => v0.5.0\n",
      "INFO: Upgrading MathProgBase: v0.3.17 => v0.3.18\n",
      "INFO: Upgrading Optim: v0.4.3 => v0.4.4\n"
     ]
    }
   ],
   "source": [
    "Pkg.update()"
   ]
  },
  {
   "cell_type": "code",
   "execution_count": 13,
   "metadata": {
    "collapsed": false
   },
   "outputs": [
    {
     "name": "stderr",
     "output_type": "stream",
     "text": [
      "  % Total    % Received % Xferd  Average Speed   Time    Time     Time  Current\n",
      "                                 Dload  Upload   Total   Spent    Left  Speed\n",
      "100  5489  100  5489    0     0  20607      0 --:--:-- --:--:-- --:--:-- 20635\n"
     ]
    },
    {
     "data": {
      "text/plain": [
       "\"binary.csv\""
      ]
     },
     "execution_count": 13,
     "metadata": {},
     "output_type": "execute_result"
    }
   ],
   "source": [
    "download(\"http://www.ats.ucla.edu/stat/data/binary.csv\", \"binary.csv\")"
   ]
  },
  {
   "cell_type": "code",
   "execution_count": 23,
   "metadata": {
    "collapsed": true
   },
   "outputs": [],
   "source": [
    "data = convert(Array{Float64,2},readcsv(\"binary.csv\")[2:end,:][:,1:4]);"
   ]
  },
  {
   "cell_type": "code",
   "execution_count": 24,
   "metadata": {
    "collapsed": false
   },
   "outputs": [],
   "source": [
    "y = data[:,1];\n",
    "u = data[:,2:4];\n",
    "o = ones(size(u,1));\n",
    "u = [u o];\n",
    "m = size(y,1);\n",
    "n = 4;\n",
    "eta = 10^-8.0;"
   ]
  },
  {
   "cell_type": "code",
   "execution_count": 35,
   "metadata": {
    "collapsed": false
   },
   "outputs": [
    {
     "data": {
      "text/plain": [
       "newtmin (generic function with 1 method)"
      ]
     },
     "execution_count": 35,
     "metadata": {},
     "output_type": "execute_result"
    }
   ],
   "source": [
    "function obj(x)\n",
    "    return (p.obj(x),p.grd(x),p.hes(x))\n",
    "end\n",
    "\n",
    "function newtmin(obj, x0; maxIts = 1000, opTol = 1e-6)\n",
    "    \n",
    "    its = 0\n",
    "    (f0,g0,h0) = obj(x0)\n",
    "    x = x0\n",
    "    (f,g,h) = obj(x)\n",
    "    \n",
    "    while norm(g,2) > 1e-8 && its < maxIts\n",
    "       \n",
    "        E = eigfact(h)\n",
    "        V = E[:vectors]\n",
    "        Lam = diagm(max(E[:values], 1e-2))\n",
    "        d = -V*inv(Lam)*transpose(V)*g\n",
    "        \n",
    "        alpha = 1\n",
    "        mu  = 1e-2\n",
    "        (fp,gp,hp) = obj(x+alpha*d)\n",
    "        while fp > f + alpha*mu*dot(g,d)\n",
    "            alpha = alpha/2\n",
    "            (fp,gp,hp) = obj(x+alpha*d)\n",
    "        end\n",
    "        \n",
    "        x = x + alpha*d\n",
    "        (f,g,h) = obj(x)\n",
    "        its = its + 1\n",
    "        \n",
    "    end\n",
    "    \n",
    "   if norm(g,2) < opTol && its < maxIts\n",
    "        println(\"Way 2 go, homeskillet.\")\n",
    "    else\n",
    "        println(\"Aw, shucks\")\n",
    "    end\n",
    "    \n",
    "    return (x, f , norm(g,2), its)\n",
    "    \n",
    "end"
   ]
  },
  {
   "cell_type": "code",
   "execution_count": 25,
   "metadata": {
    "collapsed": false
   },
   "outputs": [
    {
     "data": {
      "text/plain": [
       "L (generic function with 1 method)"
      ]
     },
     "execution_count": 25,
     "metadata": {},
     "output_type": "execute_result"
    }
   ],
   "source": [
    "function L(a)\n",
    "    valL = 0\n",
    "    for i=1:m\n",
    "        valL = valL -(y[i]*a[1]*u[i,1] + y[i]*a[2]*u[i,2] + y[i]*a[3]*u[i,3] + y[i]*a[4]*u[i,4]) + log(1 + exp(a[1]*u[i,1]+a[2]*u[i,2]+a[3]*u[i,3]+a[4]*u[i,4]))\n",
    "    end\n",
    "    return valL\n",
    "end"
   ]
  },
  {
   "cell_type": "code",
   "execution_count": 26,
   "metadata": {
    "collapsed": false
   },
   "outputs": [
    {
     "data": {
      "text/plain": [
       "(anonymous function)"
      ]
     },
     "execution_count": 26,
     "metadata": {},
     "output_type": "execute_result"
    }
   ],
   "source": [
    "diffL = rdiff( L, (ones(n),), order = 2)"
   ]
  },
  {
   "cell_type": "code",
   "execution_count": 27,
   "metadata": {
    "collapsed": false
   },
   "outputs": [
    {
     "data": {
      "text/plain": [
       "(79193.41499999998,[156480.0,912.83,721.0,273.0],\n",
       "4x4 Array{Float64,2}:\n",
       "      3.3656e7  157145.0    104700.0   43760.0 \n",
       " 157145.0          741.543     494.29    204.68\n",
       " 104700.0          494.29      391.0     137.0 \n",
       "  43760.0          204.68      137.0      57.0 )"
      ]
     },
     "execution_count": 27,
     "metadata": {},
     "output_type": "execute_result"
    }
   ],
   "source": [
    "(f,g,H) = diffL(.5*ones(n))"
   ]
  },
  {
   "cell_type": "code",
   "execution_count": 36,
   "metadata": {
    "collapsed": false
   },
   "outputs": [
    {
     "name": "stdout",
     "output_type": "stream",
     "text": [
      "Way 2 go, homeskillet.\n"
     ]
    },
    {
     "data": {
      "text/plain": [
       "([0.00229396,0.777014,-0.560031,-3.44955],229.7208825156379,1.0643987847804553e-11,50)"
      ]
     },
     "execution_count": 36,
     "metadata": {},
     "output_type": "execute_result"
    }
   ],
   "source": [
    "(x,f,ng,its) = newtmin(diffL,.5*ones(4))"
   ]
  },
  {
   "cell_type": "code",
   "execution_count": null,
   "metadata": {
    "collapsed": false
   },
   "outputs": [],
   "source": []
  },
  {
   "cell_type": "code",
   "execution_count": null,
   "metadata": {
    "collapsed": false
   },
   "outputs": [],
   "source": []
  },
  {
   "cell_type": "code",
   "execution_count": null,
   "metadata": {
    "collapsed": false
   },
   "outputs": [],
   "source": []
  },
  {
   "cell_type": "code",
   "execution_count": null,
   "metadata": {
    "collapsed": false
   },
   "outputs": [],
   "source": []
  },
  {
   "cell_type": "code",
   "execution_count": null,
   "metadata": {
    "collapsed": false
   },
   "outputs": [],
   "source": []
  },
  {
   "cell_type": "code",
   "execution_count": null,
   "metadata": {
    "collapsed": false
   },
   "outputs": [],
   "source": []
  },
  {
   "cell_type": "code",
   "execution_count": null,
   "metadata": {
    "collapsed": false
   },
   "outputs": [],
   "source": []
  },
  {
   "cell_type": "code",
   "execution_count": null,
   "metadata": {
    "collapsed": false
   },
   "outputs": [],
   "source": []
  },
  {
   "cell_type": "code",
   "execution_count": null,
   "metadata": {
    "collapsed": true
   },
   "outputs": [],
   "source": []
  },
  {
   "cell_type": "code",
   "execution_count": null,
   "metadata": {
    "collapsed": false
   },
   "outputs": [],
   "source": []
  },
  {
   "cell_type": "code",
   "execution_count": null,
   "metadata": {
    "collapsed": true
   },
   "outputs": [],
   "source": []
  }
 ],
 "metadata": {
  "kernelspec": {
   "display_name": "Julia 0.3.11",
   "language": "julia",
   "name": "julia-0.3"
  },
  "language_info": {
   "file_extension": ".jl",
   "mimetype": "application/julia",
   "name": "julia",
   "version": "0.3.11"
  }
 },
 "nbformat": 4,
 "nbformat_minor": 0
}
